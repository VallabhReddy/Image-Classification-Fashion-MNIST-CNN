{
 "cells": [
  {
   "cell_type": "code",
   "execution_count": 77,
   "metadata": {},
   "outputs": [],
   "source": [
    "### Code Header ###\n",
    "# Project Name: Fashion Products Image Classification\n",
    "# Dataset(s) : 1) Fashion MNIST dataset\n",
    "# Date: 06/05/2020\n",
    "# Author: Vallabh Reddy Burla\n",
    "# Objective: Build an image classifier to identify the category of fashion product by taking the image as input\n",
    "# Workflow: \n",
    "        # Import dataset\n",
    "        # Data health, data cleaning\n",
    "        # EDA\n",
    "        # CNN\n",
    "# Edits to be made:\n",
    "# Features to add:\n"
   ]
  },
  {
   "cell_type": "markdown",
   "metadata": {},
   "source": [
    "# Content\n",
    "- [Acknowledgements](#acknowledgements)\n",
    "- [Package Importing](#package-import)\n",
    "- [About the Project](#about-project)\n",
    "- [Loading the Data](#load-data)\n",
    "- [Building the Model](#build-model)\n"
   ]
  },
  {
   "cell_type": "markdown",
   "metadata": {},
   "source": [
    "# Acknowledgements <a class = 'anchor' id = 'acknowledgements'></a>\n",
    "1. [Fashion MNIST dataset by Zalando Research](https://github.com/zalandoresearch/fashion-mnist)"
   ]
  },
  {
   "cell_type": "markdown",
   "metadata": {},
   "source": [
    "# Package Importing <a class= 'anchor' id ='package-import'></a>"
   ]
  },
  {
   "cell_type": "code",
   "execution_count": 78,
   "metadata": {},
   "outputs": [],
   "source": [
    "# Maching Learning \n",
    "from sklearn.preprocessing import LabelEncoder\n",
    "from sklearn.preprocessing import OneHotEncoder\n",
    "import tensorflow as tf\n",
    "from tensorflow import keras\n",
    "from tensorflow.python.keras.models import Sequential\n",
    "from tensorflow.python.keras.layers import Input, Dense, Conv2D, Flatten, MaxPool2D, Dropout, BatchNormalization\n",
    "from keras.callbacks import EarlyStopping, ModelCheckpoint\n",
    "from tensorflow.python.client import device_lib\n",
    "from tensorflow.python.keras.optimizers import Adam\n",
    "\n",
    "# Visualization Libraries\n",
    "import matplotlib.pyplot as plt\n",
    "import seaborn as sns\n",
    "import plotly.express as px\n",
    "import plotly.graph_objects as go\n",
    "import plotly.figure_factory as ff\n",
    "from plotly.subplots import make_subplots\n",
    "%matplotlib inline\n",
    "\n",
    "\n",
    "# Wrangling Libraries\n",
    "import pandas as pd\n",
    "import numpy as np\n",
    "from collections import Counter\n",
    "\n",
    "\n",
    "# Image processing\n",
    "from skimage.filters import threshold_otsu\n",
    "from skimage.feature import canny\n",
    "\n",
    "\n"
   ]
  },
  {
   "cell_type": "code",
   "execution_count": 79,
   "metadata": {},
   "outputs": [],
   "source": [
    "# Setting seed\n",
    "np.random.seed(1993)\n",
    "\n",
    "# Setting tensorflow seed\n",
    "tf.set_random_seed(1993)"
   ]
  },
  {
   "cell_type": "markdown",
   "metadata": {},
   "source": [
    "# About the Project <a class = 'anchor' id = 'about-project'></a>\n",
    "The purpose of this project is to try out different image classification techniques and compare their performances on the Fashion-MNIST dataset which contains images of fashion products and their labels.\n",
    "\n",
    "Neural Networks are known to perform really well in this field of classification, so we will be trying out different setups of these networks.\n"
   ]
  },
  {
   "cell_type": "markdown",
   "metadata": {},
   "source": [
    "# Loading Fashion-MNIST<a class='anchor' id = 'load-data'></a>\n",
    "We load the Fashion-MNIST dataset which is inbuilt into Keras. This dataset contains fashion product images in the form of a 28x28 numpy array where each cell ranges from 0 to 255 signifying the darkness of the pixel. The images are in grayscale.\n",
    "\n",
    "There are 60,000 observations in the training dataset and 10,000 in the test set."
   ]
  },
  {
   "cell_type": "code",
   "execution_count": 80,
   "metadata": {
    "scrolled": true
   },
   "outputs": [],
   "source": [
    "(train_images, train_labels), (test_images, test_labels) = keras.datasets.fashion_mnist.load_data()\n",
    "y_train = train_labels\n",
    "y_test = test_labels"
   ]
  },
  {
   "cell_type": "code",
   "execution_count": 81,
   "metadata": {},
   "outputs": [
    {
     "data": {
      "text/plain": [
       "{0, 1, 2, 3, 4, 5, 6, 7, 8, 9}"
      ]
     },
     "execution_count": 81,
     "metadata": {},
     "output_type": "execute_result"
    }
   ],
   "source": [
    "set(test_labels)"
   ]
  },
  {
   "cell_type": "code",
   "execution_count": 82,
   "metadata": {},
   "outputs": [
    {
     "data": {
      "text/plain": [
       "(60000, 28, 28)"
      ]
     },
     "execution_count": 82,
     "metadata": {},
     "output_type": "execute_result"
    }
   ],
   "source": [
    "train_images.shape"
   ]
  },
  {
   "cell_type": "code",
   "execution_count": 83,
   "metadata": {},
   "outputs": [
    {
     "data": {
      "text/plain": [
       "(60000,)"
      ]
     },
     "execution_count": 83,
     "metadata": {},
     "output_type": "execute_result"
    }
   ],
   "source": [
    "train_labels.shape"
   ]
  },
  {
   "cell_type": "code",
   "execution_count": 84,
   "metadata": {},
   "outputs": [
    {
     "data": {
      "text/plain": [
       "(10000, 28, 28)"
      ]
     },
     "execution_count": 84,
     "metadata": {},
     "output_type": "execute_result"
    }
   ],
   "source": [
    "test_images.shape"
   ]
  },
  {
   "cell_type": "code",
   "execution_count": 85,
   "metadata": {},
   "outputs": [
    {
     "data": {
      "text/plain": [
       "(10000,)"
      ]
     },
     "execution_count": 85,
     "metadata": {},
     "output_type": "execute_result"
    }
   ],
   "source": [
    "test_labels.shape"
   ]
  },
  {
   "cell_type": "code",
   "execution_count": 86,
   "metadata": {},
   "outputs": [
    {
     "data": {
      "text/plain": [
       "array([9, 2, 1, 1, 6, 1, 4, 6, 5, 7], dtype=uint8)"
      ]
     },
     "execution_count": 86,
     "metadata": {},
     "output_type": "execute_result"
    }
   ],
   "source": [
    "test_labels[:10]"
   ]
  },
  {
   "cell_type": "markdown",
   "metadata": {},
   "source": [
    "Since these labels are in fact indexes, I'm creating a list of labels to extract the class name corresponding to the index."
   ]
  },
  {
   "cell_type": "code",
   "execution_count": 87,
   "metadata": {},
   "outputs": [],
   "source": [
    "label_names = ['T-shirt/top','Trouser', 'Pullover', 'Dress', 'Coat', 'Sandal', 'Shirt', 'Sneaker', 'Bag', 'Ankle Boot']"
   ]
  },
  {
   "cell_type": "markdown",
   "metadata": {},
   "source": [
    "Let's convert label names from indexes to the actual names for convenience"
   ]
  },
  {
   "cell_type": "code",
   "execution_count": 88,
   "metadata": {},
   "outputs": [],
   "source": [
    "train_labels = [label_names[x] for x in train_labels]\n",
    "test_labels = [label_names[x] for x in test_labels]"
   ]
  },
  {
   "cell_type": "markdown",
   "metadata": {},
   "source": [
    "Let's check the counts for each category of product in the test and train set"
   ]
  },
  {
   "cell_type": "code",
   "execution_count": 89,
   "metadata": {},
   "outputs": [
    {
     "data": {
      "text/plain": [
       "Counter({'Ankle Boot': 6000,\n",
       "         'T-shirt/top': 6000,\n",
       "         'Dress': 6000,\n",
       "         'Pullover': 6000,\n",
       "         'Sneaker': 6000,\n",
       "         'Sandal': 6000,\n",
       "         'Trouser': 6000,\n",
       "         'Shirt': 6000,\n",
       "         'Coat': 6000,\n",
       "         'Bag': 6000})"
      ]
     },
     "execution_count": 89,
     "metadata": {},
     "output_type": "execute_result"
    }
   ],
   "source": [
    "Counter(train_labels)"
   ]
  },
  {
   "cell_type": "code",
   "execution_count": 90,
   "metadata": {},
   "outputs": [
    {
     "data": {
      "text/plain": [
       "Counter({'Ankle Boot': 1000,\n",
       "         'Pullover': 1000,\n",
       "         'Trouser': 1000,\n",
       "         'Shirt': 1000,\n",
       "         'Coat': 1000,\n",
       "         'Sandal': 1000,\n",
       "         'Sneaker': 1000,\n",
       "         'Dress': 1000,\n",
       "         'Bag': 1000,\n",
       "         'T-shirt/top': 1000})"
      ]
     },
     "execution_count": 90,
     "metadata": {},
     "output_type": "execute_result"
    }
   ],
   "source": [
    "Counter(test_labels)"
   ]
  },
  {
   "cell_type": "markdown",
   "metadata": {},
   "source": [
    "Note that each category has the exact same number of observations in both the test and train datasets."
   ]
  },
  {
   "cell_type": "markdown",
   "metadata": {},
   "source": [
    "Let's take a look at the first observation in our image matrix."
   ]
  },
  {
   "cell_type": "code",
   "execution_count": 91,
   "metadata": {
    "scrolled": true
   },
   "outputs": [
    {
     "data": {
      "text/plain": [
       "array([[  0,   0,   0,   0,   0,   0,   0,   0,   0,   0,   0,   0,   0,\n",
       "          0,   0,   0,   0,   0,   0,   0,   0,   0,   0,   0,   0,   0,\n",
       "          0,   0],\n",
       "       [  0,   0,   0,   0,   0,   0,   0,   0,   0,   0,   0,   0,   0,\n",
       "          0,   0,   0,   0,   0,   0,   0,   0,   0,   0,   0,   0,   0,\n",
       "          0,   0],\n",
       "       [  0,   0,   0,   0,   0,   0,   0,   0,   0,   0,   0,   0,   0,\n",
       "          0,   0,   0,   0,   0,   0,   0,   0,   0,   0,   0,   0,   0,\n",
       "          0,   0],\n",
       "       [  0,   0,   0,   0,   0,   0,   0,   0,   0,   0,   0,   0,   1,\n",
       "          0,   0,  13,  73,   0,   0,   1,   4,   0,   0,   0,   0,   1,\n",
       "          1,   0],\n",
       "       [  0,   0,   0,   0,   0,   0,   0,   0,   0,   0,   0,   0,   3,\n",
       "          0,  36, 136, 127,  62,  54,   0,   0,   0,   1,   3,   4,   0,\n",
       "          0,   3],\n",
       "       [  0,   0,   0,   0,   0,   0,   0,   0,   0,   0,   0,   0,   6,\n",
       "          0, 102, 204, 176, 134, 144, 123,  23,   0,   0,   0,   0,  12,\n",
       "         10,   0],\n",
       "       [  0,   0,   0,   0,   0,   0,   0,   0,   0,   0,   0,   0,   0,\n",
       "          0, 155, 236, 207, 178, 107, 156, 161, 109,  64,  23,  77, 130,\n",
       "         72,  15],\n",
       "       [  0,   0,   0,   0,   0,   0,   0,   0,   0,   0,   0,   1,   0,\n",
       "         69, 207, 223, 218, 216, 216, 163, 127, 121, 122, 146, 141,  88,\n",
       "        172,  66],\n",
       "       [  0,   0,   0,   0,   0,   0,   0,   0,   0,   1,   1,   1,   0,\n",
       "        200, 232, 232, 233, 229, 223, 223, 215, 213, 164, 127, 123, 196,\n",
       "        229,   0],\n",
       "       [  0,   0,   0,   0,   0,   0,   0,   0,   0,   0,   0,   0,   0,\n",
       "        183, 225, 216, 223, 228, 235, 227, 224, 222, 224, 221, 223, 245,\n",
       "        173,   0],\n",
       "       [  0,   0,   0,   0,   0,   0,   0,   0,   0,   0,   0,   0,   0,\n",
       "        193, 228, 218, 213, 198, 180, 212, 210, 211, 213, 223, 220, 243,\n",
       "        202,   0],\n",
       "       [  0,   0,   0,   0,   0,   0,   0,   0,   0,   1,   3,   0,  12,\n",
       "        219, 220, 212, 218, 192, 169, 227, 208, 218, 224, 212, 226, 197,\n",
       "        209,  52],\n",
       "       [  0,   0,   0,   0,   0,   0,   0,   0,   0,   0,   6,   0,  99,\n",
       "        244, 222, 220, 218, 203, 198, 221, 215, 213, 222, 220, 245, 119,\n",
       "        167,  56],\n",
       "       [  0,   0,   0,   0,   0,   0,   0,   0,   0,   4,   0,   0,  55,\n",
       "        236, 228, 230, 228, 240, 232, 213, 218, 223, 234, 217, 217, 209,\n",
       "         92,   0],\n",
       "       [  0,   0,   1,   4,   6,   7,   2,   0,   0,   0,   0,   0, 237,\n",
       "        226, 217, 223, 222, 219, 222, 221, 216, 223, 229, 215, 218, 255,\n",
       "         77,   0],\n",
       "       [  0,   3,   0,   0,   0,   0,   0,   0,   0,  62, 145, 204, 228,\n",
       "        207, 213, 221, 218, 208, 211, 218, 224, 223, 219, 215, 224, 244,\n",
       "        159,   0],\n",
       "       [  0,   0,   0,   0,  18,  44,  82, 107, 189, 228, 220, 222, 217,\n",
       "        226, 200, 205, 211, 230, 224, 234, 176, 188, 250, 248, 233, 238,\n",
       "        215,   0],\n",
       "       [  0,  57, 187, 208, 224, 221, 224, 208, 204, 214, 208, 209, 200,\n",
       "        159, 245, 193, 206, 223, 255, 255, 221, 234, 221, 211, 220, 232,\n",
       "        246,   0],\n",
       "       [  3, 202, 228, 224, 221, 211, 211, 214, 205, 205, 205, 220, 240,\n",
       "         80, 150, 255, 229, 221, 188, 154, 191, 210, 204, 209, 222, 228,\n",
       "        225,   0],\n",
       "       [ 98, 233, 198, 210, 222, 229, 229, 234, 249, 220, 194, 215, 217,\n",
       "        241,  65,  73, 106, 117, 168, 219, 221, 215, 217, 223, 223, 224,\n",
       "        229,  29],\n",
       "       [ 75, 204, 212, 204, 193, 205, 211, 225, 216, 185, 197, 206, 198,\n",
       "        213, 240, 195, 227, 245, 239, 223, 218, 212, 209, 222, 220, 221,\n",
       "        230,  67],\n",
       "       [ 48, 203, 183, 194, 213, 197, 185, 190, 194, 192, 202, 214, 219,\n",
       "        221, 220, 236, 225, 216, 199, 206, 186, 181, 177, 172, 181, 205,\n",
       "        206, 115],\n",
       "       [  0, 122, 219, 193, 179, 171, 183, 196, 204, 210, 213, 207, 211,\n",
       "        210, 200, 196, 194, 191, 195, 191, 198, 192, 176, 156, 167, 177,\n",
       "        210,  92],\n",
       "       [  0,   0,  74, 189, 212, 191, 175, 172, 175, 181, 185, 188, 189,\n",
       "        188, 193, 198, 204, 209, 210, 210, 211, 188, 188, 194, 192, 216,\n",
       "        170,   0],\n",
       "       [  2,   0,   0,   0,  66, 200, 222, 237, 239, 242, 246, 243, 244,\n",
       "        221, 220, 193, 191, 179, 182, 182, 181, 176, 166, 168,  99,  58,\n",
       "          0,   0],\n",
       "       [  0,   0,   0,   0,   0,   0,   0,  40,  61,  44,  72,  41,  35,\n",
       "          0,   0,   0,   0,   0,   0,   0,   0,   0,   0,   0,   0,   0,\n",
       "          0,   0],\n",
       "       [  0,   0,   0,   0,   0,   0,   0,   0,   0,   0,   0,   0,   0,\n",
       "          0,   0,   0,   0,   0,   0,   0,   0,   0,   0,   0,   0,   0,\n",
       "          0,   0],\n",
       "       [  0,   0,   0,   0,   0,   0,   0,   0,   0,   0,   0,   0,   0,\n",
       "          0,   0,   0,   0,   0,   0,   0,   0,   0,   0,   0,   0,   0,\n",
       "          0,   0]], dtype=uint8)"
      ]
     },
     "execution_count": 91,
     "metadata": {},
     "output_type": "execute_result"
    }
   ],
   "source": [
    "train_images[0]"
   ]
  },
  {
   "cell_type": "markdown",
   "metadata": {},
   "source": [
    "Note that this is not actually a picture, but in fact a numpy array of pixel values.These the pixel values range from 0 - 255. It is common practice to scale these values to range between 0 and 1, in part because larger integer inputs can slow down a neural network and in part to standardize the input."
   ]
  },
  {
   "cell_type": "code",
   "execution_count": 92,
   "metadata": {},
   "outputs": [],
   "source": [
    "train_images = train_images/255\n",
    "test_images = test_images/255"
   ]
  },
  {
   "cell_type": "code",
   "execution_count": 93,
   "metadata": {},
   "outputs": [
    {
     "data": {
      "text/plain": [
       "array([[0.        , 0.        , 0.        , 0.        , 0.        ,\n",
       "        0.        , 0.        , 0.        , 0.        , 0.        ,\n",
       "        0.        , 0.        , 0.        , 0.        , 0.        ,\n",
       "        0.        , 0.        , 0.        , 0.        , 0.        ,\n",
       "        0.        , 0.        , 0.        , 0.        , 0.        ,\n",
       "        0.        , 0.        , 0.        ],\n",
       "       [0.        , 0.        , 0.        , 0.        , 0.        ,\n",
       "        0.        , 0.        , 0.        , 0.        , 0.        ,\n",
       "        0.        , 0.        , 0.        , 0.        , 0.        ,\n",
       "        0.        , 0.        , 0.        , 0.        , 0.        ,\n",
       "        0.        , 0.        , 0.        , 0.        , 0.        ,\n",
       "        0.        , 0.        , 0.        ],\n",
       "       [0.        , 0.        , 0.        , 0.        , 0.        ,\n",
       "        0.        , 0.        , 0.        , 0.        , 0.        ,\n",
       "        0.        , 0.        , 0.        , 0.        , 0.        ,\n",
       "        0.        , 0.        , 0.        , 0.        , 0.        ,\n",
       "        0.        , 0.        , 0.        , 0.        , 0.        ,\n",
       "        0.        , 0.        , 0.        ],\n",
       "       [0.        , 0.        , 0.        , 0.        , 0.        ,\n",
       "        0.        , 0.        , 0.        , 0.        , 0.        ,\n",
       "        0.        , 0.        , 0.00392157, 0.        , 0.        ,\n",
       "        0.05098039, 0.28627451, 0.        , 0.        , 0.00392157,\n",
       "        0.01568627, 0.        , 0.        , 0.        , 0.        ,\n",
       "        0.00392157, 0.00392157, 0.        ],\n",
       "       [0.        , 0.        , 0.        , 0.        , 0.        ,\n",
       "        0.        , 0.        , 0.        , 0.        , 0.        ,\n",
       "        0.        , 0.        , 0.01176471, 0.        , 0.14117647,\n",
       "        0.53333333, 0.49803922, 0.24313725, 0.21176471, 0.        ,\n",
       "        0.        , 0.        , 0.00392157, 0.01176471, 0.01568627,\n",
       "        0.        , 0.        , 0.01176471],\n",
       "       [0.        , 0.        , 0.        , 0.        , 0.        ,\n",
       "        0.        , 0.        , 0.        , 0.        , 0.        ,\n",
       "        0.        , 0.        , 0.02352941, 0.        , 0.4       ,\n",
       "        0.8       , 0.69019608, 0.5254902 , 0.56470588, 0.48235294,\n",
       "        0.09019608, 0.        , 0.        , 0.        , 0.        ,\n",
       "        0.04705882, 0.03921569, 0.        ],\n",
       "       [0.        , 0.        , 0.        , 0.        , 0.        ,\n",
       "        0.        , 0.        , 0.        , 0.        , 0.        ,\n",
       "        0.        , 0.        , 0.        , 0.        , 0.60784314,\n",
       "        0.9254902 , 0.81176471, 0.69803922, 0.41960784, 0.61176471,\n",
       "        0.63137255, 0.42745098, 0.25098039, 0.09019608, 0.30196078,\n",
       "        0.50980392, 0.28235294, 0.05882353],\n",
       "       [0.        , 0.        , 0.        , 0.        , 0.        ,\n",
       "        0.        , 0.        , 0.        , 0.        , 0.        ,\n",
       "        0.        , 0.00392157, 0.        , 0.27058824, 0.81176471,\n",
       "        0.8745098 , 0.85490196, 0.84705882, 0.84705882, 0.63921569,\n",
       "        0.49803922, 0.4745098 , 0.47843137, 0.57254902, 0.55294118,\n",
       "        0.34509804, 0.6745098 , 0.25882353],\n",
       "       [0.        , 0.        , 0.        , 0.        , 0.        ,\n",
       "        0.        , 0.        , 0.        , 0.        , 0.00392157,\n",
       "        0.00392157, 0.00392157, 0.        , 0.78431373, 0.90980392,\n",
       "        0.90980392, 0.91372549, 0.89803922, 0.8745098 , 0.8745098 ,\n",
       "        0.84313725, 0.83529412, 0.64313725, 0.49803922, 0.48235294,\n",
       "        0.76862745, 0.89803922, 0.        ],\n",
       "       [0.        , 0.        , 0.        , 0.        , 0.        ,\n",
       "        0.        , 0.        , 0.        , 0.        , 0.        ,\n",
       "        0.        , 0.        , 0.        , 0.71764706, 0.88235294,\n",
       "        0.84705882, 0.8745098 , 0.89411765, 0.92156863, 0.89019608,\n",
       "        0.87843137, 0.87058824, 0.87843137, 0.86666667, 0.8745098 ,\n",
       "        0.96078431, 0.67843137, 0.        ],\n",
       "       [0.        , 0.        , 0.        , 0.        , 0.        ,\n",
       "        0.        , 0.        , 0.        , 0.        , 0.        ,\n",
       "        0.        , 0.        , 0.        , 0.75686275, 0.89411765,\n",
       "        0.85490196, 0.83529412, 0.77647059, 0.70588235, 0.83137255,\n",
       "        0.82352941, 0.82745098, 0.83529412, 0.8745098 , 0.8627451 ,\n",
       "        0.95294118, 0.79215686, 0.        ],\n",
       "       [0.        , 0.        , 0.        , 0.        , 0.        ,\n",
       "        0.        , 0.        , 0.        , 0.        , 0.00392157,\n",
       "        0.01176471, 0.        , 0.04705882, 0.85882353, 0.8627451 ,\n",
       "        0.83137255, 0.85490196, 0.75294118, 0.6627451 , 0.89019608,\n",
       "        0.81568627, 0.85490196, 0.87843137, 0.83137255, 0.88627451,\n",
       "        0.77254902, 0.81960784, 0.20392157],\n",
       "       [0.        , 0.        , 0.        , 0.        , 0.        ,\n",
       "        0.        , 0.        , 0.        , 0.        , 0.        ,\n",
       "        0.02352941, 0.        , 0.38823529, 0.95686275, 0.87058824,\n",
       "        0.8627451 , 0.85490196, 0.79607843, 0.77647059, 0.86666667,\n",
       "        0.84313725, 0.83529412, 0.87058824, 0.8627451 , 0.96078431,\n",
       "        0.46666667, 0.65490196, 0.21960784],\n",
       "       [0.        , 0.        , 0.        , 0.        , 0.        ,\n",
       "        0.        , 0.        , 0.        , 0.        , 0.01568627,\n",
       "        0.        , 0.        , 0.21568627, 0.9254902 , 0.89411765,\n",
       "        0.90196078, 0.89411765, 0.94117647, 0.90980392, 0.83529412,\n",
       "        0.85490196, 0.8745098 , 0.91764706, 0.85098039, 0.85098039,\n",
       "        0.81960784, 0.36078431, 0.        ],\n",
       "       [0.        , 0.        , 0.00392157, 0.01568627, 0.02352941,\n",
       "        0.02745098, 0.00784314, 0.        , 0.        , 0.        ,\n",
       "        0.        , 0.        , 0.92941176, 0.88627451, 0.85098039,\n",
       "        0.8745098 , 0.87058824, 0.85882353, 0.87058824, 0.86666667,\n",
       "        0.84705882, 0.8745098 , 0.89803922, 0.84313725, 0.85490196,\n",
       "        1.        , 0.30196078, 0.        ],\n",
       "       [0.        , 0.01176471, 0.        , 0.        , 0.        ,\n",
       "        0.        , 0.        , 0.        , 0.        , 0.24313725,\n",
       "        0.56862745, 0.8       , 0.89411765, 0.81176471, 0.83529412,\n",
       "        0.86666667, 0.85490196, 0.81568627, 0.82745098, 0.85490196,\n",
       "        0.87843137, 0.8745098 , 0.85882353, 0.84313725, 0.87843137,\n",
       "        0.95686275, 0.62352941, 0.        ],\n",
       "       [0.        , 0.        , 0.        , 0.        , 0.07058824,\n",
       "        0.17254902, 0.32156863, 0.41960784, 0.74117647, 0.89411765,\n",
       "        0.8627451 , 0.87058824, 0.85098039, 0.88627451, 0.78431373,\n",
       "        0.80392157, 0.82745098, 0.90196078, 0.87843137, 0.91764706,\n",
       "        0.69019608, 0.7372549 , 0.98039216, 0.97254902, 0.91372549,\n",
       "        0.93333333, 0.84313725, 0.        ],\n",
       "       [0.        , 0.22352941, 0.73333333, 0.81568627, 0.87843137,\n",
       "        0.86666667, 0.87843137, 0.81568627, 0.8       , 0.83921569,\n",
       "        0.81568627, 0.81960784, 0.78431373, 0.62352941, 0.96078431,\n",
       "        0.75686275, 0.80784314, 0.8745098 , 1.        , 1.        ,\n",
       "        0.86666667, 0.91764706, 0.86666667, 0.82745098, 0.8627451 ,\n",
       "        0.90980392, 0.96470588, 0.        ],\n",
       "       [0.01176471, 0.79215686, 0.89411765, 0.87843137, 0.86666667,\n",
       "        0.82745098, 0.82745098, 0.83921569, 0.80392157, 0.80392157,\n",
       "        0.80392157, 0.8627451 , 0.94117647, 0.31372549, 0.58823529,\n",
       "        1.        , 0.89803922, 0.86666667, 0.7372549 , 0.60392157,\n",
       "        0.74901961, 0.82352941, 0.8       , 0.81960784, 0.87058824,\n",
       "        0.89411765, 0.88235294, 0.        ],\n",
       "       [0.38431373, 0.91372549, 0.77647059, 0.82352941, 0.87058824,\n",
       "        0.89803922, 0.89803922, 0.91764706, 0.97647059, 0.8627451 ,\n",
       "        0.76078431, 0.84313725, 0.85098039, 0.94509804, 0.25490196,\n",
       "        0.28627451, 0.41568627, 0.45882353, 0.65882353, 0.85882353,\n",
       "        0.86666667, 0.84313725, 0.85098039, 0.8745098 , 0.8745098 ,\n",
       "        0.87843137, 0.89803922, 0.11372549],\n",
       "       [0.29411765, 0.8       , 0.83137255, 0.8       , 0.75686275,\n",
       "        0.80392157, 0.82745098, 0.88235294, 0.84705882, 0.7254902 ,\n",
       "        0.77254902, 0.80784314, 0.77647059, 0.83529412, 0.94117647,\n",
       "        0.76470588, 0.89019608, 0.96078431, 0.9372549 , 0.8745098 ,\n",
       "        0.85490196, 0.83137255, 0.81960784, 0.87058824, 0.8627451 ,\n",
       "        0.86666667, 0.90196078, 0.2627451 ],\n",
       "       [0.18823529, 0.79607843, 0.71764706, 0.76078431, 0.83529412,\n",
       "        0.77254902, 0.7254902 , 0.74509804, 0.76078431, 0.75294118,\n",
       "        0.79215686, 0.83921569, 0.85882353, 0.86666667, 0.8627451 ,\n",
       "        0.9254902 , 0.88235294, 0.84705882, 0.78039216, 0.80784314,\n",
       "        0.72941176, 0.70980392, 0.69411765, 0.6745098 , 0.70980392,\n",
       "        0.80392157, 0.80784314, 0.45098039],\n",
       "       [0.        , 0.47843137, 0.85882353, 0.75686275, 0.70196078,\n",
       "        0.67058824, 0.71764706, 0.76862745, 0.8       , 0.82352941,\n",
       "        0.83529412, 0.81176471, 0.82745098, 0.82352941, 0.78431373,\n",
       "        0.76862745, 0.76078431, 0.74901961, 0.76470588, 0.74901961,\n",
       "        0.77647059, 0.75294118, 0.69019608, 0.61176471, 0.65490196,\n",
       "        0.69411765, 0.82352941, 0.36078431],\n",
       "       [0.        , 0.        , 0.29019608, 0.74117647, 0.83137255,\n",
       "        0.74901961, 0.68627451, 0.6745098 , 0.68627451, 0.70980392,\n",
       "        0.7254902 , 0.7372549 , 0.74117647, 0.7372549 , 0.75686275,\n",
       "        0.77647059, 0.8       , 0.81960784, 0.82352941, 0.82352941,\n",
       "        0.82745098, 0.7372549 , 0.7372549 , 0.76078431, 0.75294118,\n",
       "        0.84705882, 0.66666667, 0.        ],\n",
       "       [0.00784314, 0.        , 0.        , 0.        , 0.25882353,\n",
       "        0.78431373, 0.87058824, 0.92941176, 0.9372549 , 0.94901961,\n",
       "        0.96470588, 0.95294118, 0.95686275, 0.86666667, 0.8627451 ,\n",
       "        0.75686275, 0.74901961, 0.70196078, 0.71372549, 0.71372549,\n",
       "        0.70980392, 0.69019608, 0.65098039, 0.65882353, 0.38823529,\n",
       "        0.22745098, 0.        , 0.        ],\n",
       "       [0.        , 0.        , 0.        , 0.        , 0.        ,\n",
       "        0.        , 0.        , 0.15686275, 0.23921569, 0.17254902,\n",
       "        0.28235294, 0.16078431, 0.1372549 , 0.        , 0.        ,\n",
       "        0.        , 0.        , 0.        , 0.        , 0.        ,\n",
       "        0.        , 0.        , 0.        , 0.        , 0.        ,\n",
       "        0.        , 0.        , 0.        ],\n",
       "       [0.        , 0.        , 0.        , 0.        , 0.        ,\n",
       "        0.        , 0.        , 0.        , 0.        , 0.        ,\n",
       "        0.        , 0.        , 0.        , 0.        , 0.        ,\n",
       "        0.        , 0.        , 0.        , 0.        , 0.        ,\n",
       "        0.        , 0.        , 0.        , 0.        , 0.        ,\n",
       "        0.        , 0.        , 0.        ],\n",
       "       [0.        , 0.        , 0.        , 0.        , 0.        ,\n",
       "        0.        , 0.        , 0.        , 0.        , 0.        ,\n",
       "        0.        , 0.        , 0.        , 0.        , 0.        ,\n",
       "        0.        , 0.        , 0.        , 0.        , 0.        ,\n",
       "        0.        , 0.        , 0.        , 0.        , 0.        ,\n",
       "        0.        , 0.        , 0.        ]])"
      ]
     },
     "execution_count": 93,
     "metadata": {},
     "output_type": "execute_result"
    }
   ],
   "source": [
    "train_images[0]"
   ]
  },
  {
   "cell_type": "markdown",
   "metadata": {},
   "source": [
    "#### Image Display"
   ]
  },
  {
   "cell_type": "markdown",
   "metadata": {},
   "source": [
    "We've seen the image as a matrix representation, but that's not intuitive to us. It is a representation of an image, so we should be able to display it as a picture. We do so below along with the labels for the first 20 observations in the training set."
   ]
  },
  {
   "cell_type": "code",
   "execution_count": 94,
   "metadata": {},
   "outputs": [
    {
     "data": {
      "image/png": "[encoded data removed]",
      "text/plain": [
       "<Figure size 720x720 with 25 Axes>"
      ]
     },
     "metadata": {},
     "output_type": "display_data"
    }
   ],
   "source": [
    "plt.figure(figsize=(10,10))\n",
    "for i in range(25):\n",
    "    plt.subplot(5, 5, i+1)\n",
    "    plt.xticks([])\n",
    "    plt.yticks([])\n",
    "    plt.imshow(train_images[i], cmap = plt.cm.binary)\n",
    "    plt.xlabel(train_labels[i])\n",
    "plt.show() "
   ]
  },
  {
   "cell_type": "markdown",
   "metadata": {},
   "source": [
    "#### Pixel Density Distributions"
   ]
  },
  {
   "cell_type": "markdown",
   "metadata": {},
   "source": [
    "Let's look at the pixel distribution for these images"
   ]
  },
  {
   "cell_type": "code",
   "execution_count": 95,
   "metadata": {},
   "outputs": [
    {
     "data": {
      "image/png": "[encoded data removed]",
      "text/plain": [
       "<Figure size 864x864 with 25 Axes>"
      ]
     },
     "metadata": {},
     "output_type": "display_data"
    }
   ],
   "source": [
    "plt.figure(figsize=(12,12))\n",
    "for i in range(25):\n",
    "    plt.subplot(5, 5, i+1)\n",
    "    plt.xticks([])\n",
    "    plt.yticks([])\n",
    "    plt.hist(train_images[i][train_images[i]!=0].ravel(), bins = 256)\n",
    "    plt.xlabel(train_labels[i])\n",
    "plt.show() "
   ]
  },
  {
   "cell_type": "markdown",
   "metadata": {},
   "source": [
    "#### Thresholding"
   ]
  },
  {
   "cell_type": "markdown",
   "metadata": {},
   "source": [
    "Thresholding converts pixels to either 255(black) or 0(white) based on whether they are greater than a certain threshold value or not."
   ]
  },
  {
   "cell_type": "code",
   "execution_count": 96,
   "metadata": {},
   "outputs": [
    {
     "data": {
      "image/png": "[encoded data removed]",
      "text/plain": [
       "<Figure size 720x720 with 25 Axes>"
      ]
     },
     "metadata": {},
     "output_type": "display_data"
    }
   ],
   "source": [
    "plt.figure(figsize=(10, 10))\n",
    "for i in range(25):\n",
    "    plt.subplot(5, 5, i+1)\n",
    "    plt.xticks([])\n",
    "    plt.yticks([])\n",
    "    thresh = threshold_otsu(train_images[i])\n",
    "    post_thresh = train_images[i] > thresh\n",
    "    plt.imshow(post_thresh, cmap = plt.cm.binary)\n",
    "    plt.xlabel(train_labels[i])\n",
    "plt.show() \n"
   ]
  },
  {
   "cell_type": "markdown",
   "metadata": {},
   "source": [
    "#### Edge Detection"
   ]
  },
  {
   "cell_type": "markdown",
   "metadata": {},
   "source": [
    "Edge detection identifies the outlines of the important features in the image."
   ]
  },
  {
   "cell_type": "code",
   "execution_count": 97,
   "metadata": {},
   "outputs": [
    {
     "data": {
      "image/png": "[encoded data removed]",
      "text/plain": [
       "<Figure size 720x720 with 25 Axes>"
      ]
     },
     "metadata": {},
     "output_type": "display_data"
    }
   ],
   "source": [
    "plt.figure(figsize=(10,10))\n",
    "for i in range(25):\n",
    "    plt.subplot(5, 5, i+1)\n",
    "    plt.xticks([])\n",
    "    plt.yticks([])\n",
    "    plt.imshow(canny(train_images[i], 0.001), cmap = plt.cm.binary)\n",
    "    plt.xlabel(train_labels[i])\n",
    "plt.show()"
   ]
  },
  {
   "cell_type": "code",
   "execution_count": 98,
   "metadata": {
    "scrolled": false
   },
   "outputs": [
    {
     "data": {
      "image/png": "[encoded data removed]",
      "text/plain": [
       "<Figure size 864x504 with 1 Axes>"
      ]
     },
     "metadata": {
      "needs_background": "light"
     },
     "output_type": "display_data"
    }
   ],
   "source": [
    "fig, ax = plt.subplots(figsize = (12,7))\n",
    "ax = sns.countplot(x = train_labels)"
   ]
  },
  {
   "cell_type": "code",
   "execution_count": 99,
   "metadata": {
    "scrolled": false
   },
   "outputs": [
    {
     "data": {
      "image/png": "[encoded data removed]",
      "text/plain": [
       "<Figure size 864x504 with 1 Axes>"
      ]
     },
     "metadata": {
      "needs_background": "light"
     },
     "output_type": "display_data"
    }
   ],
   "source": [
    "fig, ax = plt.subplots(figsize = (12,7))\n",
    "ax = sns.countplot(x = test_labels)"
   ]
  },
  {
   "cell_type": "markdown",
   "metadata": {},
   "source": [
    "We see that each category has the exact same number of observations in both the test and train data."
   ]
  },
  {
   "cell_type": "markdown",
   "metadata": {},
   "source": [
    "### Building the Model <a class='anchor' id = 'build-model'></a>"
   ]
  },
  {
   "cell_type": "markdown",
   "metadata": {},
   "source": [
    "We must reshape the images to 3D tensors so that the CNN can interpret the images"
   ]
  },
  {
   "cell_type": "code",
   "execution_count": 100,
   "metadata": {},
   "outputs": [
    {
     "data": {
      "text/plain": [
       "(60000, 28, 28)"
      ]
     },
     "execution_count": 100,
     "metadata": {},
     "output_type": "execute_result"
    }
   ],
   "source": [
    "train_images.shape"
   ]
  },
  {
   "cell_type": "code",
   "execution_count": 101,
   "metadata": {},
   "outputs": [],
   "source": [
    "X_train = np.reshape(train_images,(train_images.shape[0], train_images.shape[1], train_images.shape[2], 1))\n",
    "X_test = np.reshape(test_images, (test_images.shape[0], test_images.shape[1], test_images.shape[2],1))"
   ]
  },
  {
   "cell_type": "markdown",
   "metadata": {},
   "source": [
    "#### Model 1: 3 Convolutional, 3 Max pooling , 1 Output Layers with 25% dropout"
   ]
  },
  {
   "cell_type": "code",
   "execution_count": 26,
   "metadata": {},
   "outputs": [
    {
     "name": "stdout",
     "output_type": "stream",
     "text": [
      "WARNING:tensorflow:From C:\\Users\\valla\\Anaconda3\\lib\\site-packages\\tensorflow\\python\\ops\\init_ops.py:1251: calling VarianceScaling.__init__ (from tensorflow.python.ops.init_ops) with dtype is deprecated and will be removed in a future version.\n",
      "Instructions for updating:\n",
      "Call initializer instance with the dtype argument instead of passing it to the constructor\n"
     ]
    }
   ],
   "source": [
    "model1 = Sequential([\n",
    "    Conv2D(100, kernel_size = 3, padding = 'same', activation = 'relu', input_shape = (28,28,1))\n",
    "    , Dropout(0.25)\n",
    "    , MaxPool2D( pool_size = (2,2))\n",
    "    , Conv2D(100, kernel_size = 3, padding = 'same', activation = 'relu')\n",
    "    , Dropout(0.25)\n",
    "    , MaxPool2D( pool_size = (2,2))\n",
    "    , Conv2D(100, kernel_size = 3, padding = 'same', activation = 'relu')\n",
    "    , Dropout(0.25)\n",
    "    , MaxPool2D( pool_size = (2,2))\n",
    "    , Flatten()\n",
    "    , Dense (10, activation = 'softmax')\n",
    "    \n",
    "])\n"
   ]
  },
  {
   "cell_type": "markdown",
   "metadata": {},
   "source": [
    "**Convolutional Layers (Conv2D)** - Try to look for the presence of certain patterns across the image. These patterns as represented by kernels which are trained as fitting goes on. So essentially, they learn the patterns they need to look for. As we stack multiple Conv2D layers, the patterns the network looks for get more complex.\n",
    "\n",
    "**Pooling Layers (MaxPool2d)** - These summarise a small set of nearby pixels by averaging or taking the max value of the group. This essentially reduces the input size and thus reduces the total number of parameters to be trained.\n",
    "\n",
    "**Dropout Layer (Dropout)** - These layers sever random connections between neurons equal to the percentage mentioned in the input. This is done to combat possible overfitting so that the network is not overly dependant on any particular feature that might have been an important telling feature only in the training set. It is forced to compensate and learn other differentiators.\n",
    "\n",
    "**Flatten (Flatten)** - The convolutional layers have a 2 dimensional input and output, but the neural network layers need a one dimensional input. The flatten layer does just this, is takes the 2D input and flattens it to a 1D output which is fed to the neural network.\n",
    "\n",
    "**Dense** - The dense layer has ten neurons, one each for each category of apparel. The 'softmax' activation function ensures that the sum of all probabilities equals to one."
   ]
  },
  {
   "cell_type": "code",
   "execution_count": 27,
   "metadata": {},
   "outputs": [
    {
     "name": "stdout",
     "output_type": "stream",
     "text": [
      "Model: \"sequential\"\n",
      "_________________________________________________________________\n",
      "Layer (type)                 Output Shape              Param #   \n",
      "=================================================================\n",
      "conv2d (Conv2D)              (None, 28, 28, 100)       1000      \n",
      "_________________________________________________________________\n",
      "dropout (Dropout)            (None, 28, 28, 100)       0         \n",
      "_________________________________________________________________\n",
      "max_pooling2d (MaxPooling2D) (None, 14, 14, 100)       0         \n",
      "_________________________________________________________________\n",
      "conv2d_1 (Conv2D)            (None, 14, 14, 100)       90100     \n",
      "_________________________________________________________________\n",
      "dropout_1 (Dropout)          (None, 14, 14, 100)       0         \n",
      "_________________________________________________________________\n",
      "max_pooling2d_1 (MaxPooling2 (None, 7, 7, 100)         0         \n",
      "_________________________________________________________________\n",
      "conv2d_2 (Conv2D)            (None, 7, 7, 100)         90100     \n",
      "_________________________________________________________________\n",
      "dropout_2 (Dropout)          (None, 7, 7, 100)         0         \n",
      "_________________________________________________________________\n",
      "max_pooling2d_2 (MaxPooling2 (None, 3, 3, 100)         0         \n",
      "_________________________________________________________________\n",
      "flatten (Flatten)            (None, 900)               0         \n",
      "_________________________________________________________________\n",
      "dense (Dense)                (None, 10)                9010      \n",
      "=================================================================\n",
      "Total params: 190,210\n",
      "Trainable params: 190,210\n",
      "Non-trainable params: 0\n",
      "_________________________________________________________________\n"
     ]
    }
   ],
   "source": [
    "model1.summary()"
   ]
  },
  {
   "cell_type": "markdown",
   "metadata": {},
   "source": [
    "**Callbacks** \n",
    "\n",
    "*Early stopping* - Cuts short the training phase if the number of epochs without improvement to the loss crosses the patience value.\n",
    "\n",
    "*Model Checkpoint* - If a model is trained for n number of epochs, it isn't necessary that the final model has the best performance. The model checkpoint callback saves the weights of the best model for use.\n"
   ]
  },
  {
   "cell_type": "code",
   "execution_count": 28,
   "metadata": {
    "scrolled": false
   },
   "outputs": [
    {
     "name": "stdout",
     "output_type": "stream",
     "text": [
      "Train on 48000 samples, validate on 12000 samples\n",
      "Epoch 1/5\n",
      "48000/48000 [==============================] - 11s 238us/sample - loss: 0.4618 - acc: 0.8327 - val_loss: 0.4053 - val_acc: 0.8802\n",
      "Epoch 2/5\n",
      "48000/48000 [==============================] - 9s 178us/sample - loss: 0.3109 - acc: 0.8874 - val_loss: 0.3416 - val_acc: 0.8963\n",
      "Epoch 3/5\n",
      "48000/48000 [==============================] - 9s 178us/sample - loss: 0.2750 - acc: 0.8981 - val_loss: 0.2825 - val_acc: 0.9077\n",
      "Epoch 4/5\n",
      "48000/48000 [==============================] - 9s 179us/sample - loss: 0.2496 - acc: 0.9097 - val_loss: 0.2714 - val_acc: 0.9116\n",
      "Epoch 5/5\n",
      "48000/48000 [==============================] - 9s 179us/sample - loss: 0.2311 - acc: 0.9154 - val_loss: 0.2702 - val_acc: 0.9122\n"
     ]
    },
    {
     "data": {
      "text/plain": [
       "<tensorflow.python.keras.callbacks.History at 0x2883df70748>"
      ]
     },
     "execution_count": 28,
     "metadata": {},
     "output_type": "execute_result"
    }
   ],
   "source": [
    "# Defining Callbacks\n",
    "\n",
    "early_stopping_monitor = EarlyStopping(patience = 3)\n",
    "model_checkpoint_monitor = ModelCheckpoint('model1.h5', monitor = 'val_loss', mode = 'min', save_best_only = True)\n",
    "\n",
    "# Compile and fit\n",
    "\n",
    "model1.compile(optimizer = 'adam', loss = 'sparse_categorical_crossentropy' , metrics = ['accuracy'])\n",
    "model1.fit(X_train, y_train, epochs = 5, validation_split = 0.2, callbacks = [early_stopping_monitor, model_checkpoint_monitor])"
   ]
  },
  {
   "cell_type": "code",
   "execution_count": 29,
   "metadata": {},
   "outputs": [
    {
     "name": "stdout",
     "output_type": "stream",
     "text": [
      "10000/10000 [==============================] - 1s 60us/sample - loss: 0.2825 - acc: 0.9067\n"
     ]
    },
    {
     "data": {
      "text/plain": [
       "[0.2824765396118164, 0.9067]"
      ]
     },
     "execution_count": 29,
     "metadata": {},
     "output_type": "execute_result"
    }
   ],
   "source": [
    "model1.load_weights('model1.h5')\n",
    "model1.evaluate(X_test, y_test)"
   ]
  },
  {
   "cell_type": "markdown",
   "metadata": {},
   "source": [
    "In the model summary for model 1, we see the input shape cutting down drastically because of multiple maxpooling layers. What started as (28, 28, 100) turns into (3, 3, 100). While maxpooling reduces the parameters required for training, I suspect these multiple layers might be oversimplifying the content, so let's try another network with only one max pooling layer."
   ]
  },
  {
   "cell_type": "markdown",
   "metadata": {},
   "source": [
    "#### Model 2: 3 Convolutional , 1 Max pooling, 1 Output Layers with 25% dropout"
   ]
  },
  {
   "cell_type": "code",
   "execution_count": 30,
   "metadata": {},
   "outputs": [],
   "source": [
    "model2 = Sequential([\n",
    "    Conv2D(100, kernel_size = 3, padding = 'same', activation = 'relu', input_shape = (28,28,1))\n",
    "    , Dropout(0.25)\n",
    "    , MaxPool2D( pool_size = (2,2))\n",
    "    , Conv2D(100, kernel_size = 3, padding = 'same', activation = 'relu')\n",
    "    , Dropout(0.25)\n",
    "    , Conv2D(100, kernel_size = 3, padding = 'same', activation = 'relu')\n",
    "    , Dropout(0.25)\n",
    "    , Flatten()\n",
    "    , Dense (10, activation = 'softmax')\n",
    "    \n",
    "])"
   ]
  },
  {
   "cell_type": "code",
   "execution_count": 31,
   "metadata": {
    "scrolled": false
   },
   "outputs": [
    {
     "name": "stdout",
     "output_type": "stream",
     "text": [
      "Model: \"sequential_1\"\n",
      "_________________________________________________________________\n",
      "Layer (type)                 Output Shape              Param #   \n",
      "=================================================================\n",
      "conv2d_3 (Conv2D)            (None, 28, 28, 100)       1000      \n",
      "_________________________________________________________________\n",
      "dropout_3 (Dropout)          (None, 28, 28, 100)       0         \n",
      "_________________________________________________________________\n",
      "max_pooling2d_3 (MaxPooling2 (None, 14, 14, 100)       0         \n",
      "_________________________________________________________________\n",
      "conv2d_4 (Conv2D)            (None, 14, 14, 100)       90100     \n",
      "_________________________________________________________________\n",
      "dropout_4 (Dropout)          (None, 14, 14, 100)       0         \n",
      "_________________________________________________________________\n",
      "conv2d_5 (Conv2D)            (None, 14, 14, 100)       90100     \n",
      "_________________________________________________________________\n",
      "dropout_5 (Dropout)          (None, 14, 14, 100)       0         \n",
      "_________________________________________________________________\n",
      "flatten_1 (Flatten)          (None, 19600)             0         \n",
      "_________________________________________________________________\n",
      "dense_1 (Dense)              (None, 10)                196010    \n",
      "=================================================================\n",
      "Total params: 377,210\n",
      "Trainable params: 377,210\n",
      "Non-trainable params: 0\n",
      "_________________________________________________________________\n"
     ]
    }
   ],
   "source": [
    "model2.summary()"
   ]
  },
  {
   "cell_type": "markdown",
   "metadata": {},
   "source": [
    "The number of parameters is close to twice of what we had for the previous network, but the input dimensions are (14, 14, 100). Let's see if this performs better because we've left more detail in the input for the network to learn."
   ]
  },
  {
   "cell_type": "code",
   "execution_count": 32,
   "metadata": {},
   "outputs": [
    {
     "name": "stdout",
     "output_type": "stream",
     "text": [
      "Train on 48000 samples, validate on 12000 samples\n",
      "Epoch 1/5\n",
      "48000/48000 [==============================] - 10s 212us/sample - loss: 0.4049 - acc: 0.8561 - val_loss: 0.3208 - val_acc: 0.8921\n",
      "Epoch 2/5\n",
      "48000/48000 [==============================] - 10s 207us/sample - loss: 0.2752 - acc: 0.9007 - val_loss: 0.2666 - val_acc: 0.9022\n",
      "Epoch 3/5\n",
      "48000/48000 [==============================] - 10s 207us/sample - loss: 0.2394 - acc: 0.9122 - val_loss: 0.2577 - val_acc: 0.9068\n",
      "Epoch 4/5\n",
      "48000/48000 [==============================] - 10s 207us/sample - loss: 0.2112 - acc: 0.9228 - val_loss: 0.2319 - val_acc: 0.9128\n",
      "Epoch 5/5\n",
      "48000/48000 [==============================] - 10s 207us/sample - loss: 0.1934 - acc: 0.9284 - val_loss: 0.2158 - val_acc: 0.9190\n"
     ]
    },
    {
     "data": {
      "text/plain": [
       "<tensorflow.python.keras.callbacks.History at 0x2883dbf73c8>"
      ]
     },
     "execution_count": 32,
     "metadata": {},
     "output_type": "execute_result"
    }
   ],
   "source": [
    "# Defining callbacks\n",
    "early_stopping_monitor = EarlyStopping(patience = 3)\n",
    "model_checkpoint_monitor = ModelCheckpoint('model2.h5', monitor = 'val_loss', mode = 'min', save_best_only = True)\n",
    "\n",
    "# Compile and fit\n",
    "model2.compile(optimizer = 'adam', loss = 'sparse_categorical_crossentropy', metrics = ['accuracy'])\n",
    "model2.fit(X_train, y_train, epochs = 5, validation_split = 0.2, callbacks = [early_stopping_monitor, model_checkpoint_monitor])\n"
   ]
  },
  {
   "cell_type": "code",
   "execution_count": 33,
   "metadata": {},
   "outputs": [
    {
     "name": "stdout",
     "output_type": "stream",
     "text": [
      "10000/10000 [==============================] - 1s 69us/sample - loss: 0.2344 - acc: 0.9177\n"
     ]
    },
    {
     "data": {
      "text/plain": [
       "[0.2343593897819519, 0.9177]"
      ]
     },
     "execution_count": 33,
     "metadata": {},
     "output_type": "execute_result"
    }
   ],
   "source": [
    "model2.load_weights('model2.h5')\n",
    "model2.evaluate(X_test, y_test)"
   ]
  },
  {
   "cell_type": "markdown",
   "metadata": {},
   "source": [
    "As expected we see that this network takes a marginally longer time to fit. There is a slight improvement, but we can't make a conclusion that dialing back the number of maxpool layers really helped. This is because the model performance might vary as using the GPU to train the models adds randomness which is not handled by setting the seed."
   ]
  },
  {
   "cell_type": "markdown",
   "metadata": {},
   "source": [
    "Let us use the second model and increase the number of epochs to see if that helps accuracy. "
   ]
  },
  {
   "cell_type": "markdown",
   "metadata": {},
   "source": [
    "#### Model 3: 3 Convolutional, 1 Max Pooling, 1 Output Layer - Dropout 25%, 20 epochs"
   ]
  },
  {
   "cell_type": "code",
   "execution_count": 34,
   "metadata": {},
   "outputs": [
    {
     "name": "stdout",
     "output_type": "stream",
     "text": [
      "Model: \"sequential_2\"\n",
      "_________________________________________________________________\n",
      "Layer (type)                 Output Shape              Param #   \n",
      "=================================================================\n",
      "conv2d_6 (Conv2D)            (None, 28, 28, 100)       1000      \n",
      "_________________________________________________________________\n",
      "dropout_6 (Dropout)          (None, 28, 28, 100)       0         \n",
      "_________________________________________________________________\n",
      "max_pooling2d_4 (MaxPooling2 (None, 14, 14, 100)       0         \n",
      "_________________________________________________________________\n",
      "conv2d_7 (Conv2D)            (None, 14, 14, 100)       90100     \n",
      "_________________________________________________________________\n",
      "dropout_7 (Dropout)          (None, 14, 14, 100)       0         \n",
      "_________________________________________________________________\n",
      "conv2d_8 (Conv2D)            (None, 14, 14, 100)       90100     \n",
      "_________________________________________________________________\n",
      "dropout_8 (Dropout)          (None, 14, 14, 100)       0         \n",
      "_________________________________________________________________\n",
      "flatten_2 (Flatten)          (None, 19600)             0         \n",
      "_________________________________________________________________\n",
      "dense_2 (Dense)              (None, 10)                196010    \n",
      "=================================================================\n",
      "Total params: 377,210\n",
      "Trainable params: 377,210\n",
      "Non-trainable params: 0\n",
      "_________________________________________________________________\n"
     ]
    }
   ],
   "source": [
    "model3 = Sequential([\n",
    "    Conv2D(100, kernel_size = 3, padding = 'same', activation = 'relu', input_shape = (28,28,1))\n",
    "    , Dropout(0.25)\n",
    "    , MaxPool2D(pool_size = (2,2))\n",
    "    , Conv2D(100, kernel_size = 3, padding = 'same', activation = 'relu')\n",
    "    , Dropout(0.25)\n",
    "    , Conv2D(100, kernel_size = 3, padding = 'same', activation = 'relu')\n",
    "    , Dropout(0.25)\n",
    "    , Flatten()\n",
    "    , Dense(10, activation = 'softmax')\n",
    "])\n",
    "\n",
    "model3.summary()"
   ]
  },
  {
   "cell_type": "code",
   "execution_count": 35,
   "metadata": {},
   "outputs": [
    {
     "name": "stdout",
     "output_type": "stream",
     "text": [
      "Train on 48000 samples, validate on 12000 samples\n",
      "Epoch 1/20\n",
      "48000/48000 [==============================] - 10s 215us/sample - loss: 0.4007 - acc: 0.8571 - val_loss: 0.2895 - val_acc: 0.8976\n",
      "Epoch 2/20\n",
      "48000/48000 [==============================] - 10s 214us/sample - loss: 0.2705 - acc: 0.9011 - val_loss: 0.2582 - val_acc: 0.9045\n",
      "Epoch 3/20\n",
      "48000/48000 [==============================] - 10s 208us/sample - loss: 0.2341 - acc: 0.9139 - val_loss: 0.2474 - val_acc: 0.9128\n",
      "Epoch 4/20\n",
      "48000/48000 [==============================] - 10s 208us/sample - loss: 0.2101 - acc: 0.9227 - val_loss: 0.2291 - val_acc: 0.9183\n",
      "Epoch 5/20\n",
      "48000/48000 [==============================] - 10s 208us/sample - loss: 0.1896 - acc: 0.9309 - val_loss: 0.2279 - val_acc: 0.9177\n",
      "Epoch 6/20\n",
      "48000/48000 [==============================] - 10s 207us/sample - loss: 0.1742 - acc: 0.9370 - val_loss: 0.2189 - val_acc: 0.9187\n",
      "Epoch 7/20\n",
      "48000/48000 [==============================] - 10s 208us/sample - loss: 0.1613 - acc: 0.9413 - val_loss: 0.2160 - val_acc: 0.9214\n",
      "Epoch 8/20\n",
      "48000/48000 [==============================] - 10s 207us/sample - loss: 0.1505 - acc: 0.9446 - val_loss: 0.2369 - val_acc: 0.9149\n",
      "Epoch 9/20\n",
      "48000/48000 [==============================] - 10s 207us/sample - loss: 0.1419 - acc: 0.9473 - val_loss: 0.2213 - val_acc: 0.9191\n",
      "Epoch 10/20\n",
      "48000/48000 [==============================] - 10s 207us/sample - loss: 0.1294 - acc: 0.9509 - val_loss: 0.2426 - val_acc: 0.9184\n"
     ]
    }
   ],
   "source": [
    "# Defining callbacks \n",
    "early_stopping_monitor = EarlyStopping(patience = 3)\n",
    "model_checkpoint_monitor = ModelCheckpoint('model3.h5', monitor = 'val_loss', mode = 'min' , save_best_only = True)\n",
    "\n",
    "# Compiling and fitting\n",
    "model3.compile(optimizer = 'adam', loss = 'sparse_categorical_crossentropy', metrics = ['accuracy'])\n",
    "training = model3.fit(X_train, y_train, validation_split = 0.2, epochs = 20, callbacks = [early_stopping_monitor, model_checkpoint_monitor])"
   ]
  },
  {
   "cell_type": "code",
   "execution_count": 36,
   "metadata": {},
   "outputs": [
    {
     "name": "stdout",
     "output_type": "stream",
     "text": [
      "10000/10000 [==============================] - 1s 68us/sample - loss: 0.2321 - acc: 0.9189\n"
     ]
    },
    {
     "data": {
      "text/plain": [
       "[0.23205117869973182, 0.9189]"
      ]
     },
     "execution_count": 36,
     "metadata": {},
     "output_type": "execute_result"
    }
   ],
   "source": [
    "model3.load_weights('model3.h5')\n",
    "model3.evaluate(X_test, y_test)"
   ]
  },
  {
   "cell_type": "markdown",
   "metadata": {},
   "source": [
    "Even though the number of epochs is higher, early stopping always seems to cut short the learning. Let's try reducing the learning rate of the optimizer."
   ]
  },
  {
   "cell_type": "markdown",
   "metadata": {},
   "source": [
    "#### Model 4: 3 Convolutional, 1 Max Pooling, 1 Output Layers - Dropout 25%, 20 epochs, Lower Learning Rate"
   ]
  },
  {
   "cell_type": "code",
   "execution_count": 37,
   "metadata": {},
   "outputs": [
    {
     "name": "stdout",
     "output_type": "stream",
     "text": [
      "Model: \"sequential_3\"\n",
      "_________________________________________________________________\n",
      "Layer (type)                 Output Shape              Param #   \n",
      "=================================================================\n",
      "conv2d_9 (Conv2D)            (None, 28, 28, 100)       1000      \n",
      "_________________________________________________________________\n",
      "dropout_9 (Dropout)          (None, 28, 28, 100)       0         \n",
      "_________________________________________________________________\n",
      "max_pooling2d_5 (MaxPooling2 (None, 14, 14, 100)       0         \n",
      "_________________________________________________________________\n",
      "conv2d_10 (Conv2D)           (None, 14, 14, 100)       90100     \n",
      "_________________________________________________________________\n",
      "dropout_10 (Dropout)         (None, 14, 14, 100)       0         \n",
      "_________________________________________________________________\n",
      "conv2d_11 (Conv2D)           (None, 14, 14, 100)       90100     \n",
      "_________________________________________________________________\n",
      "dropout_11 (Dropout)         (None, 14, 14, 100)       0         \n",
      "_________________________________________________________________\n",
      "flatten_3 (Flatten)          (None, 19600)             0         \n",
      "_________________________________________________________________\n",
      "dense_3 (Dense)              (None, 10)                196010    \n",
      "=================================================================\n",
      "Total params: 377,210\n",
      "Trainable params: 377,210\n",
      "Non-trainable params: 0\n",
      "_________________________________________________________________\n"
     ]
    }
   ],
   "source": [
    "model4 = Sequential([\n",
    "    Conv2D(100, kernel_size = 3, padding = 'same', activation = 'relu', input_shape = (28,28,1))\n",
    "    , Dropout(0.25)\n",
    "    , MaxPool2D(pool_size = (2,2))\n",
    "    , Conv2D(100, kernel_size = 3, padding = 'same', activation = 'relu')\n",
    "    , Dropout(0.25)\n",
    "    , Conv2D(100, kernel_size = 3, padding = 'same', activation = 'relu')\n",
    "    , Dropout(0.25)\n",
    "    , Flatten()\n",
    "    , Dense(10, activation = 'softmax')\n",
    "])\n",
    "\n",
    "model4.summary()"
   ]
  },
  {
   "cell_type": "code",
   "execution_count": 38,
   "metadata": {},
   "outputs": [
    {
     "name": "stdout",
     "output_type": "stream",
     "text": [
      "Train on 48000 samples, validate on 12000 samples\n",
      "Epoch 1/20\n",
      "48000/48000 [==============================] - 11s 230us/sample - loss: 0.5815 - acc: 0.7923 - val_loss: 0.4431 - val_acc: 0.8422\n",
      "Epoch 2/20\n",
      "48000/48000 [==============================] - 11s 221us/sample - loss: 0.3928 - acc: 0.8619 - val_loss: 0.3869 - val_acc: 0.8661\n",
      "Epoch 3/20\n",
      "48000/48000 [==============================] - 11s 221us/sample - loss: 0.3457 - acc: 0.8781 - val_loss: 0.3425 - val_acc: 0.8847\n",
      "Epoch 4/20\n",
      "48000/48000 [==============================] - 11s 222us/sample - loss: 0.3095 - acc: 0.8902 - val_loss: 0.3051 - val_acc: 0.8920\n",
      "Epoch 5/20\n",
      "48000/48000 [==============================] - 11s 222us/sample - loss: 0.2855 - acc: 0.8982 - val_loss: 0.2952 - val_acc: 0.8954\n",
      "Epoch 6/20\n",
      "48000/48000 [==============================] - 11s 222us/sample - loss: 0.2649 - acc: 0.9049 - val_loss: 0.2727 - val_acc: 0.9018\n",
      "Epoch 7/20\n",
      "48000/48000 [==============================] - 11s 222us/sample - loss: 0.2496 - acc: 0.9100 - val_loss: 0.2613 - val_acc: 0.9095\n",
      "Epoch 8/20\n",
      "48000/48000 [==============================] - 11s 222us/sample - loss: 0.2346 - acc: 0.9151 - val_loss: 0.2480 - val_acc: 0.9110\n",
      "Epoch 9/20\n",
      "48000/48000 [==============================] - 11s 222us/sample - loss: 0.2243 - acc: 0.9199 - val_loss: 0.2556 - val_acc: 0.9069\n",
      "Epoch 10/20\n",
      "48000/48000 [==============================] - 11s 223us/sample - loss: 0.2145 - acc: 0.9226 - val_loss: 0.2328 - val_acc: 0.9183\n",
      "Epoch 11/20\n",
      "48000/48000 [==============================] - 11s 223us/sample - loss: 0.2056 - acc: 0.9262 - val_loss: 0.2278 - val_acc: 0.9188\n",
      "Epoch 12/20\n",
      "48000/48000 [==============================] - 11s 223us/sample - loss: 0.1971 - acc: 0.9281 - val_loss: 0.2227 - val_acc: 0.9208\n",
      "Epoch 13/20\n",
      "48000/48000 [==============================] - 11s 223us/sample - loss: 0.1894 - acc: 0.9311 - val_loss: 0.2211 - val_acc: 0.9202\n",
      "Epoch 14/20\n",
      "48000/48000 [==============================] - 11s 225us/sample - loss: 0.1809 - acc: 0.9342 - val_loss: 0.2296 - val_acc: 0.9172\n",
      "Epoch 15/20\n",
      "48000/48000 [==============================] - 11s 229us/sample - loss: 0.1764 - acc: 0.9355 - val_loss: 0.2156 - val_acc: 0.9201\n",
      "Epoch 16/20\n",
      "48000/48000 [==============================] - 11s 228us/sample - loss: 0.1701 - acc: 0.9381 - val_loss: 0.2135 - val_acc: 0.9219\n",
      "Epoch 17/20\n",
      "48000/48000 [==============================] - 11s 228us/sample - loss: 0.1623 - acc: 0.9410 - val_loss: 0.2162 - val_acc: 0.9237\n",
      "Epoch 18/20\n",
      "48000/48000 [==============================] - 11s 226us/sample - loss: 0.1585 - acc: 0.9416 - val_loss: 0.2304 - val_acc: 0.9163\n",
      "Epoch 19/20\n",
      "48000/48000 [==============================] - 11s 229us/sample - loss: 0.1543 - acc: 0.9445 - val_loss: 0.2103 - val_acc: 0.9245\n",
      "Epoch 20/20\n",
      "48000/48000 [==============================] - 11s 226us/sample - loss: 0.1493 - acc: 0.9453 - val_loss: 0.2055 - val_acc: 0.9274\n"
     ]
    }
   ],
   "source": [
    "# Defining callbacks \n",
    "early_stopping_monitor = EarlyStopping(patience = 3)\n",
    "model_checkpoint_monitor = ModelCheckpoint('model4.h5', monitor = 'val_loss', mode = 'min' , save_best_only = True)\n",
    "\n",
    "# Defining the optimizer \n",
    "adam = Adam(lr = 0.0001)\n",
    "# Compiling and fitting\n",
    "model4.compile(optimizer = adam, loss = 'sparse_categorical_crossentropy', metrics = ['accuracy'])\n",
    "training = model4.fit(X_train, y_train, validation_split = 0.2, epochs = 20, callbacks = [early_stopping_monitor, model_checkpoint_monitor])"
   ]
  },
  {
   "cell_type": "code",
   "execution_count": 47,
   "metadata": {},
   "outputs": [
    {
     "name": "stdout",
     "output_type": "stream",
     "text": [
      "10000/10000 [==============================] - 1s 95us/sample - loss: 0.2161 - acc: 0.9252\n"
     ]
    },
    {
     "data": {
      "text/plain": [
       "[0.21608757364153863, 0.9252]"
      ]
     },
     "execution_count": 47,
     "metadata": {},
     "output_type": "execute_result"
    }
   ],
   "source": [
    "model4.load_weights('model4.h5')\n",
    "model4.evaluate(X_test, y_test)"
   ]
  },
  {
   "cell_type": "markdown",
   "metadata": {},
   "source": [
    "We get the same evaluation accuracy."
   ]
  },
  {
   "cell_type": "markdown",
   "metadata": {},
   "source": [
    "So far we have used a smaller network. We noted earlier that convolutions capture more complex features as we increase the depth. So let's try a deeper network with a higher number of layers and nodes."
   ]
  },
  {
   "cell_type": "markdown",
   "metadata": {},
   "source": [
    "#### Model 5: 4 Convolutional , 1 Max Pooling , 2 Hidden, 1 Output Layers - Dropout 25%,  20 epochs"
   ]
  },
  {
   "cell_type": "code",
   "execution_count": 60,
   "metadata": {},
   "outputs": [
    {
     "name": "stdout",
     "output_type": "stream",
     "text": [
      "Model: \"sequential_9\"\n",
      "_________________________________________________________________\n",
      "Layer (type)                 Output Shape              Param #   \n",
      "=================================================================\n",
      "conv2d_32 (Conv2D)           (None, 28, 28, 100)       1000      \n",
      "_________________________________________________________________\n",
      "dropout_43 (Dropout)         (None, 28, 28, 100)       0         \n",
      "_________________________________________________________________\n",
      "max_pooling2d_11 (MaxPooling (None, 14, 14, 100)       0         \n",
      "_________________________________________________________________\n",
      "conv2d_33 (Conv2D)           (None, 14, 14, 100)       90100     \n",
      "_________________________________________________________________\n",
      "dropout_44 (Dropout)         (None, 14, 14, 100)       0         \n",
      "_________________________________________________________________\n",
      "conv2d_34 (Conv2D)           (None, 14, 14, 100)       90100     \n",
      "_________________________________________________________________\n",
      "dropout_45 (Dropout)         (None, 14, 14, 100)       0         \n",
      "_________________________________________________________________\n",
      "conv2d_35 (Conv2D)           (None, 14, 14, 100)       90100     \n",
      "_________________________________________________________________\n",
      "dropout_46 (Dropout)         (None, 14, 14, 100)       0         \n",
      "_________________________________________________________________\n",
      "flatten_9 (Flatten)          (None, 19600)             0         \n",
      "_________________________________________________________________\n",
      "dense_20 (Dense)             (None, 200)               3920200   \n",
      "_________________________________________________________________\n",
      "dropout_47 (Dropout)         (None, 200)               0         \n",
      "_________________________________________________________________\n",
      "dense_21 (Dense)             (None, 10)                2010      \n",
      "=================================================================\n",
      "Total params: 4,193,510\n",
      "Trainable params: 4,193,510\n",
      "Non-trainable params: 0\n",
      "_________________________________________________________________\n"
     ]
    }
   ],
   "source": [
    "model5 = Sequential([\n",
    "    Conv2D(100, kernel_size = 3, padding = 'same', activation = 'relu', input_shape = (28,28,1))\n",
    "    , Dropout(0.25)\n",
    "    , MaxPool2D(pool_size = (2,2))\n",
    "    , Conv2D(100, kernel_size = 3, padding = 'same', activation = 'relu')\n",
    "    , Dropout(0.25)\n",
    "    , Conv2D(100, kernel_size = 3, padding = 'same', activation = 'relu')\n",
    "    , Dropout(0.25)\n",
    "    , Conv2D(100, kernel_size = 3, padding = 'same', activation = 'relu')\n",
    "    , Dropout(0.25)\n",
    "    , Flatten()\n",
    "    , Dense(200, activation = 'relu')\n",
    "    , Dropout(0.25)\n",
    "    , Dense(10, activation = 'softmax')\n",
    "])\n",
    "model5.summary()"
   ]
  },
  {
   "cell_type": "code",
   "execution_count": 61,
   "metadata": {},
   "outputs": [
    {
     "name": "stdout",
     "output_type": "stream",
     "text": [
      "Train on 48000 samples, validate on 12000 samples\n",
      "Epoch 1/20\n",
      "48000/48000 [==============================] - 19s 402us/sample - loss: 0.5658 - acc: 0.7933 - val_loss: 0.3994 - val_acc: 0.8602\n",
      "Epoch 2/20\n",
      "48000/48000 [==============================] - 17s 362us/sample - loss: 0.3594 - acc: 0.8701 - val_loss: 0.3192 - val_acc: 0.8870\n",
      "Epoch 3/20\n",
      "48000/48000 [==============================] - 17s 363us/sample - loss: 0.3058 - acc: 0.8876 - val_loss: 0.2856 - val_acc: 0.8958\n",
      "Epoch 4/20\n",
      "48000/48000 [==============================] - 17s 364us/sample - loss: 0.2689 - acc: 0.9013 - val_loss: 0.2712 - val_acc: 0.9016\n",
      "Epoch 5/20\n",
      "48000/48000 [==============================] - 18s 367us/sample - loss: 0.2428 - acc: 0.9115 - val_loss: 0.2502 - val_acc: 0.9112\n",
      "Epoch 6/20\n",
      "48000/48000 [==============================] - 17s 359us/sample - loss: 0.2211 - acc: 0.9181 - val_loss: 0.2282 - val_acc: 0.9161\n",
      "Epoch 7/20\n",
      "48000/48000 [==============================] - 18s 370us/sample - loss: 0.1992 - acc: 0.9256 - val_loss: 0.2184 - val_acc: 0.9214\n",
      "Epoch 8/20\n",
      "48000/48000 [==============================] - 18s 377us/sample - loss: 0.1832 - acc: 0.9313 - val_loss: 0.2238 - val_acc: 0.9174\n",
      "Epoch 9/20\n",
      "48000/48000 [==============================] - 18s 376us/sample - loss: 0.1663 - acc: 0.9383 - val_loss: 0.2171 - val_acc: 0.9200\n",
      "Epoch 10/20\n",
      "48000/48000 [==============================] - 18s 381us/sample - loss: 0.1503 - acc: 0.9434 - val_loss: 0.2377 - val_acc: 0.9082\n",
      "Epoch 11/20\n",
      "48000/48000 [==============================] - 18s 377us/sample - loss: 0.1361 - acc: 0.9490 - val_loss: 0.2102 - val_acc: 0.9238\n",
      "Epoch 12/20\n",
      "48000/48000 [==============================] - 18s 377us/sample - loss: 0.1234 - acc: 0.9541 - val_loss: 0.2047 - val_acc: 0.9258\n",
      "Epoch 13/20\n",
      "48000/48000 [==============================] - 18s 375us/sample - loss: 0.1126 - acc: 0.9591 - val_loss: 0.2151 - val_acc: 0.9250\n",
      "Epoch 14/20\n",
      "48000/48000 [==============================] - 18s 375us/sample - loss: 0.1027 - acc: 0.9617 - val_loss: 0.2136 - val_acc: 0.9261\n",
      "Epoch 15/20\n",
      "48000/48000 [==============================] - 18s 375us/sample - loss: 0.0933 - acc: 0.9649 - val_loss: 0.2188 - val_acc: 0.9247\n"
     ]
    }
   ],
   "source": [
    "# Defining callbacks \n",
    "early_stopping_monitor = EarlyStopping(patience = 3)\n",
    "model_checkpoint_monitor = ModelCheckpoint('model5.h5', monitor = 'val_loss', mode = 'min' , save_best_only = True)\n",
    "\n",
    "# Defining the optimizer \n",
    "adam = Adam(lr = 0.0001)\n",
    "# Compiling and fitting\n",
    "model5.compile(optimizer = adam, loss = 'sparse_categorical_crossentropy', metrics = ['accuracy'])\n",
    "training = model5.fit(X_train, y_train, validation_split = 0.2, epochs = 20, callbacks = [early_stopping_monitor, model_checkpoint_monitor])"
   ]
  },
  {
   "cell_type": "code",
   "execution_count": 62,
   "metadata": {},
   "outputs": [
    {
     "name": "stdout",
     "output_type": "stream",
     "text": [
      "10000/10000 [==============================] - 1s 95us/sample - loss: 0.2207 - acc: 0.9223\n"
     ]
    },
    {
     "data": {
      "text/plain": [
       "[0.22066166884899138, 0.9223]"
      ]
     },
     "execution_count": 62,
     "metadata": {},
     "output_type": "execute_result"
    }
   ],
   "source": [
    "model5.load_weights('model5.h5')\n",
    "model5.evaluate(X_test, y_test)"
   ]
  },
  {
   "cell_type": "markdown",
   "metadata": {},
   "source": [
    "There is only a marginal difference. Let's stick with model 4. We get around 91-92% accuracy."
   ]
  },
  {
   "cell_type": "markdown",
   "metadata": {},
   "source": [
    "### Visualizing the Kernel"
   ]
  },
  {
   "cell_type": "markdown",
   "metadata": {},
   "source": [
    "Let's pick a few kernels and visualize what features the CNN is looking for. This may help us decide whether to increase depth."
   ]
  },
  {
   "cell_type": "code",
   "execution_count": 69,
   "metadata": {},
   "outputs": [
    {
     "data": {
      "text/plain": [
       "(3, 3, 1, 100)"
      ]
     },
     "execution_count": 69,
     "metadata": {},
     "output_type": "execute_result"
    }
   ],
   "source": [
    "conv1 = model4.layers[0]\n",
    "weights1 = conv1.get_weights()\n",
    "kernels = weights1[0]\n",
    "kernels.shape"
   ]
  },
  {
   "cell_type": "markdown",
   "metadata": {},
   "source": [
    "The first two dimensions of the shape tell use the kernel size, which is 3x3. The 3rd dimension is the channel, which is 1 since this is grayscale and the last dimension tells us there are 100 kernels since we have 100 nodes in the first convolutional Layer."
   ]
  },
  {
   "cell_type": "code",
   "execution_count": 72,
   "metadata": {},
   "outputs": [
    {
     "data": {
      "text/plain": [
       "<matplotlib.image.AxesImage at 0x289f9aae470>"
      ]
     },
     "execution_count": 72,
     "metadata": {},
     "output_type": "execute_result"
    },
    {
     "data": {
      "image/png": "[encoded data removed]",
      "text/plain": [
       "<Figure size 432x288 with 1 Axes>"
      ]
     },
     "metadata": {
      "needs_background": "light"
     },
     "output_type": "display_data"
    }
   ],
   "source": [
    "# Plotting the first kernel\n",
    "plt.imshow(kernels[:,:,0,0], cmap = plt.cm.binary)"
   ]
  },
  {
   "cell_type": "code",
   "execution_count": 74,
   "metadata": {},
   "outputs": [
    {
     "data": {
      "text/plain": [
       "<matplotlib.image.AxesImage at 0x289f9b5d2e8>"
      ]
     },
     "execution_count": 74,
     "metadata": {},
     "output_type": "execute_result"
    },
    {
     "data": {
      "image/png": "[encoded data removed]",
      "text/plain": [
       "<Figure size 432x288 with 1 Axes>"
      ]
     },
     "metadata": {
      "needs_background": "light"
     },
     "output_type": "display_data"
    }
   ],
   "source": [
    "# Plotting the last kernel\n",
    "plt.imshow(kernels[:,:,0,-1], cmap = plt.cm.binary)"
   ]
  },
  {
   "cell_type": "code",
   "execution_count": 104,
   "metadata": {},
   "outputs": [
    {
     "data": {
      "text/plain": [
       "<matplotlib.image.AxesImage at 0x28a1bd4be80>"
      ]
     },
     "execution_count": 104,
     "metadata": {},
     "output_type": "execute_result"
    },
    {
     "data": {
      "image/png": "[encoded data removed]",
      "text/plain": [
       "<Figure size 432x288 with 1 Axes>"
      ]
     },
     "metadata": {
      "needs_background": "light"
     },
     "output_type": "display_data"
    }
   ],
   "source": [
    "# Plotting the first image\n",
    "plt.imshow(train_images[0], cmap = plt.cm.binary)"
   ]
  },
  {
   "cell_type": "code",
   "execution_count": 109,
   "metadata": {},
   "outputs": [],
   "source": [
    "# Defining a function to compute the kernel responses\n",
    "def kernel_response(image, kernel):\n",
    "    convolution = np.zeros((26,26))\n",
    "\n",
    "    for i in range(26):\n",
    "        for j in range(26):\n",
    "            window = image[i:i+3, j:j+3]\n",
    "            convolution[i,j] = np.sum(window*kernel)\n",
    "    return convolution\n"
   ]
  },
  {
   "cell_type": "markdown",
   "metadata": {},
   "source": [
    "Let's display the kernel response for the first image using the first and last kernels and then a few others"
   ]
  },
  {
   "cell_type": "code",
   "execution_count": 112,
   "metadata": {
    "scrolled": true
   },
   "outputs": [
    {
     "data": {
      "text/plain": [
       "<matplotlib.image.AxesImage at 0x28a1cd5c2e8>"
      ]
     },
     "execution_count": 112,
     "metadata": {},
     "output_type": "execute_result"
    },
    {
     "data": {
      "image/png": "[encoded data removed]",
      "text/plain": [
       "<Figure size 432x288 with 1 Axes>"
      ]
     },
     "metadata": {
      "needs_background": "light"
     },
     "output_type": "display_data"
    }
   ],
   "source": [
    "image = train_images[0]\n",
    "kernel = kernels[:,:,0,0]\n",
    "plt.imshow(kernel_response(image, kernel), cmap = plt.cm.binary)"
   ]
  },
  {
   "cell_type": "markdown",
   "metadata": {},
   "source": [
    "The flap and the front of the boot are emphasized"
   ]
  },
  {
   "cell_type": "code",
   "execution_count": 113,
   "metadata": {
    "scrolled": true
   },
   "outputs": [
    {
     "data": {
      "text/plain": [
       "<matplotlib.image.AxesImage at 0x28a1cdb6630>"
      ]
     },
     "execution_count": 113,
     "metadata": {},
     "output_type": "execute_result"
    },
    {
     "data": {
      "image/png": "[encoded data removed]",
      "text/plain": [
       "<Figure size 432x288 with 1 Axes>"
      ]
     },
     "metadata": {
      "needs_background": "light"
     },
     "output_type": "display_data"
    }
   ],
   "source": [
    "kernel = kernels[:,:,0,-1]\n",
    "plt.imshow(kernel_response(image, kernel), cmap = plt.cm.binary)"
   ]
  },
  {
   "cell_type": "markdown",
   "metadata": {},
   "source": [
    "The body of the boot is emphasized"
   ]
  },
  {
   "cell_type": "code",
   "execution_count": 114,
   "metadata": {
    "scrolled": true
   },
   "outputs": [
    {
     "data": {
      "text/plain": [
       "<matplotlib.image.AxesImage at 0x28a1ce0e9e8>"
      ]
     },
     "execution_count": 114,
     "metadata": {},
     "output_type": "execute_result"
    },
    {
     "data": {
      "image/png": "[encoded data removed]",
      "text/plain": [
       "<Figure size 432x288 with 1 Axes>"
      ]
     },
     "metadata": {
      "needs_background": "light"
     },
     "output_type": "display_data"
    }
   ],
   "source": [
    "kernel = kernels[:,:,0, 50]\n",
    "plt.imshow(kernel_response(image, kernel), cmap = plt.cm.binary)"
   ]
  },
  {
   "cell_type": "markdown",
   "metadata": {},
   "source": [
    "The flap is emphasized"
   ]
  },
  {
   "cell_type": "code",
   "execution_count": 115,
   "metadata": {
    "scrolled": true
   },
   "outputs": [
    {
     "data": {
      "text/plain": [
       "<matplotlib.image.AxesImage at 0x28a1ce6a748>"
      ]
     },
     "execution_count": 115,
     "metadata": {},
     "output_type": "execute_result"
    },
    {
     "data": {
      "image/png": "[encoded data removed]",
      "text/plain": [
       "<Figure size 432x288 with 1 Axes>"
      ]
     },
     "metadata": {
      "needs_background": "light"
     },
     "output_type": "display_data"
    }
   ],
   "source": [
    "kernel = kernels[:,:,0,70]\n",
    "plt.imshow(kernel_response(image, kernel), cmap = plt.cm.binary)"
   ]
  },
  {
   "cell_type": "markdown",
   "metadata": {},
   "source": [
    "The flap and the tip of the boot are emphasized much more distinctly than in the first kernel."
   ]
  },
  {
   "cell_type": "markdown",
   "metadata": {},
   "source": [
    "Try input transformations.\n",
    "See how the same kernel responds to different apparel types."
   ]
  },
  {
   "cell_type": "code",
   "execution_count": null,
   "metadata": {},
   "outputs": [],
   "source": []
  }
 ],
 "metadata": {
  "kernelspec": {
   "display_name": "Python 3",
   "language": "python",
   "name": "python3"
  },
  "language_info": {
   "codemirror_mode": {
    "name": "ipython",
    "version": 3
   },
   "file_extension": ".py",
   "mimetype": "text/x-python",
   "name": "python",
   "nbconvert_exporter": "python",
   "pygments_lexer": "ipython3",
   "version": "3.7.3"
  }
 },
 "nbformat": 4,
 "nbformat_minor": 2
}
